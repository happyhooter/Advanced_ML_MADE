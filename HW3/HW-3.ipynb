{
 "cells": [
  {
   "cell_type": "code",
   "execution_count": 1,
   "metadata": {},
   "outputs": [],
   "source": [
    "import re\n",
    "from collections import Counter\n",
    "import random"
   ]
  },
  {
   "cell_type": "markdown",
   "metadata": {},
   "source": [
    "## 1 task"
   ]
  },
  {
   "cell_type": "markdown",
   "metadata": {},
   "source": [
    "        Реализуйте базовый частотный метод по Шерлоку Холмсу:\n",
    "* подсчитайте частоты букв по корпусам (пунктуацию и капитализацию можно просто опустить, а вот пробелы лучше оставить);\n",
    "* возьмите какие-нибудь тестовые тексты (нужно взять по меньшей мере 2-3 предложения, иначе вряд ли сработает), зашифруйте их посредством случайной перестановки символов;\n",
    "* расшифруйте их таким частотным методом."
   ]
  },
  {
   "cell_type": "code",
   "execution_count": 2,
   "metadata": {},
   "outputs": [],
   "source": [
    "ru_alphabet = \" абвгдеёжзийклмнопрстуфхцчшщъыьэюя\"\n",
    "list_ru_alphabet = list(ru_alphabet)"
   ]
  },
  {
   "cell_type": "code",
   "execution_count": 3,
   "metadata": {},
   "outputs": [],
   "source": [
    "TEXT_PATH = \"./corpora/WarAndPeace.txt\"\n",
    "\n",
    "with open(TEXT_PATH, \"r\") as fin:\n",
    "    text = fin.readlines()"
   ]
  },
  {
   "cell_type": "code",
   "execution_count": 4,
   "metadata": {},
   "outputs": [],
   "source": [
    "joined_text = \" \".join(text)\n",
    "processed_text = re.sub(r\"\\W+\", \" \", joined_text.lower())"
   ]
  },
  {
   "cell_type": "code",
   "execution_count": 5,
   "metadata": {
    "scrolled": true
   },
   "outputs": [],
   "source": [
    "ru_freqs = Counter(processed_text)"
   ]
  },
  {
   "cell_type": "code",
   "execution_count": 6,
   "metadata": {},
   "outputs": [],
   "source": [
    "def check_accuracy(message, decoded_message):\n",
    "    correct = 0\n",
    "    for x, y in zip(message, decoded_message):\n",
    "        if x == y:\n",
    "            correct += 1\n",
    "    return correct / len(message)\n",
    "\n",
    "def encode(text, list_alphabet):\n",
    "    default_list_alphabet = list(list_alphabet)\n",
    "    random.shuffle(list_alphabet)\n",
    "    translation = str.maketrans(\"\".join(default_list_alphabet), \"\".join(list_alphabet))\n",
    "    return text.translate(translation)\n",
    "\n",
    "def decode(encoded_text, freqs):\n",
    "    encoded_freqs = Counter(encoded_text)\n",
    "    sorted_encoded_freqs = [k for k, _ in sorted(encoded_freqs.items(), key=lambda item: -item[1])]\n",
    "    sorted_freqs = [k for k, _ in sorted(freqs.items(), key=lambda item: -item[1])]\n",
    "    translation = str.maketrans(\"\".join(sorted_encoded_freqs), \"\".join(sorted_freqs[:len(sorted_encoded_freqs)]))\n",
    "    return encoded_text.translate(translation)"
   ]
  },
  {
   "cell_type": "code",
   "execution_count": 7,
   "metadata": {},
   "outputs": [],
   "source": [
    "ru_message = \"мы с отцом занимались опиливанием деревьев которые находились в опасных местах там куда не могла подъехать вышка сначала я просто помогал отцу потом брал на себя всю основную физическую работу например в богородицке самое высокое здание пять этажей но иногда приходилось лезть еще выше\"\n",
    "encoded_ru_message = encode(ru_message, list_ru_alphabet)\n",
    "decoded_ru_message = decode(encoded_ru_message, ru_freqs)"
   ]
  },
  {
   "cell_type": "code",
   "execution_count": 8,
   "metadata": {},
   "outputs": [
    {
     "name": "stdout",
     "output_type": "stream",
     "text": [
      "Исходный текст:\n",
      "мы с отцом занимались опиливанием деревьев которые находились в опасных местах там куда не могла подъехать вышка сначала я просто помогал отцу потом брал на себя всю основную физическую работу например в богородицке самое высокое здание пять этажей но иногда приходилось лезть еще выше\n",
      "\n",
      "Закодированный текст:\n",
      "гунмншъцшгнбапзгарзмйншизрзёапздгнфдждёйдёнкшъшжуднпаьшфзрзмйнёншиампуьнгдмъаьнъагнкефанпднгшхранишф дьаъйнёусканмпаларанщнижшмъшнишгшхарншъценишъшгныжарнпанмдыщнёмоншмпшёпеонтзбзлдмкеонжаышъенпаижзгджнёнышхшжшфзцкднмагшднёумшкшднбфапзднищъйнюъавдянпшнзпшхфанижзьшфзршмйнрдбъйндэднёусд\n",
      "\n",
      "Раскодированный текст:\n",
      "лп н осчол ыатиларину окириватиел медевуев яосодпе тагомирину в окантпг ленсаг сал яьма те лозра комeегасу впшяа нтахара й кдонсо колозар осчь косол бдар та небй внж онтовтьж юиыихеняьж дабось такдилед в бозодомичяе налое впнояое ыматие кйсу цсаnеs то итозма кдигомирону реысу еiе впше\n",
      "\n",
      "Accuracy: 0.512280701754386\n"
     ]
    }
   ],
   "source": [
    "print(f\"Исходный текст:\\n{ru_message}\\n\")\n",
    "print(f\"Закодированный текст:\\n{encoded_ru_message}\\n\")\n",
    "print(f\"Раскодированный текст:\\n{decoded_ru_message}\\n\")\n",
    "print(f\"Accuracy: {check_accuracy(ru_message, decoded_ru_message)}\")"
   ]
  },
  {
   "cell_type": "markdown",
   "metadata": {},
   "source": [
    "## 2 task"
   ]
  },
  {
   "cell_type": "markdown",
   "metadata": {},
   "source": [
    "        Вряд ли в результате получилась такая уж хорошая расшифровка, разве что если вы брали в качестве тестовых данных целые рассказы. Но и Шерлок Холмс был не так уж прост: после буквы E, которая действительно выделяется частотой, дальше он анализировал уже конкретные слова и пытался угадать, какими они могли бы быть. Я не знаю, как запрограммировать такой интуитивный анализ, так что давайте просто сделаем следующий логический шаг:\n",
    "* подсчитайте частоты биграмм (т.е. пар последовательных букв) по корпусам;\n",
    "* проведите тестирование аналогично п.1, но при помощи биграмм."
   ]
  },
  {
   "cell_type": "code",
   "execution_count": 9,
   "metadata": {},
   "outputs": [],
   "source": [
    "def bigram_freqs(text):\n",
    "    c = Counter()\n",
    "    for i in range(len(text) - 1):\n",
    "        c[text[i:i + 2]] += 1\n",
    "    return c\n",
    "\n",
    "def decode_bigram(encoded_text, freqs):\n",
    "    encoded_freqs = bigram_freqs(encoded_text)\n",
    "    sorted_encoded_freqs = [k for k, _ in sorted(encoded_freqs.items(), key=lambda item: -item[1])]\n",
    "    sorted_freqs = [k for k, _ in sorted(freqs.items(), key=lambda item: -item[1])]\n",
    "    translation = str.maketrans(\"\".join(sorted_encoded_freqs), \"\".join(sorted_freqs[:len(sorted_encoded_freqs)]))\n",
    "    return encoded_text.translate(translation)"
   ]
  },
  {
   "cell_type": "code",
   "execution_count": 10,
   "metadata": {},
   "outputs": [],
   "source": [
    "bigram_ru_freqs = bigram_freqs(processed_text)\n",
    "decoded_birgam_ru_message = decode_bigram(encoded_ru_message, bigram_ru_freqs)"
   ]
  },
  {
   "cell_type": "code",
   "execution_count": 11,
   "metadata": {},
   "outputs": [
    {
     "name": "stdout",
     "output_type": "stream",
     "text": [
      "Исходный текст:\n",
      "мы с отцом занимались опиливанием деревьев которые находились в опасных местах там куда не могла подъехать вышка сначала я просто помогал отцу потом брал на себя всю основную физическую работу например в богородицке самое высокое здание пять этажей но иногда приходилось лезть еще выше\n",
      "\n",
      "Закодированный текст:\n",
      "гунмншъцшгнбапзгарзмйншизрзёапздгнфдждёйдёнкшъшжуднпаьшфзрзмйнёншиампуьнгдмъаьнъагнкефанпднгшхранишф дьаъйнёусканмпаларанщнижшмъшнишгшхарншъценишъшгныжарнпанмдыщнёмоншмпшёпеонтзбзлдмкеонжаышъенпаижзгджнёнышхшжшфзцкднмагшднёумшкшднбфапзднищъйнюъавдянпшнзпшхфанижзьшфзршмйнрдбъйндэднёусд\n",
      "\n",
      "Раскодированный текст:\n",
      "еикскидсиекишебештбслкихбтбишебжекржижилжикйидииижкешеирбтбслкикихшсеиекежсдшекдшекйлршкежкеидтшкхиртжешдлкии йшксешаштшкыкхиисдикхиеидшткидслкхидиекыишткешксжыыкисекисеииелекабибажсйлекишыидлкешхибежикикыидииирбсйжксшеижкиисийижкиршебжкхыдлкбдшэжакеикбеидршкхибеирбтислктжидлкжсжкии ж\n",
      "\n",
      "Accuracy: 0.04912280701754386\n"
     ]
    }
   ],
   "source": [
    "print(f\"Исходный текст:\\n{ru_message}\\n\")\n",
    "print(f\"Закодированный текст:\\n{encoded_ru_message}\\n\")\n",
    "print(f\"Раскодированный текст:\\n{decoded_birgam_ru_message}\\n\")\n",
    "print(f\"Accuracy: {check_accuracy(ru_message, decoded_birgam_ru_message)}\")"
   ]
  },
  {
   "cell_type": "markdown",
   "metadata": {},
   "source": [
    "## 3 task"
   ]
  },
  {
   "cell_type": "markdown",
   "metadata": {},
   "source": [
    "        Но и это ещё не всё: биграммы скорее всего тоже далеко не всегда работают. Основная часть задания — в том, как можно их улучшить:\n",
    "* предложите метод обучения перестановки символов в этом задании, основанный на MCMC-сэмплировании, но по-прежнему работающий на основе статистики биграмм;\n",
    "* реализуйте и протестируйте его, убедитесь, что результаты улучшились."
   ]
  },
  {
   "cell_type": "markdown",
   "metadata": {},
   "source": [
    "В качестве состояния цепи Маркова можно использовать буквы, тогда по данным можно построить матрицу переходов $T$.\n",
    "\n",
    "Для произвольной строки текста $s$ можно вычислить вероятость порождения этой цепью Маркова - $P(s) = \\prod_i p(s_{i+1}|s_i) = \\prod_i T_{s_i,s_{i+1}}$.\n",
    "\n",
    "Необходимо найти такую перестановку букв, которая после применения к зашифрованному сообщению получит результат, имеющий высокую $P$.\n",
    "\n",
    "Применение MCMC для поиска этой перестановки: случайно меняем 2 буквы в перестановке местами. Считаем P2/P1 для старой и новой перестановки и используем метод Метрополиса-Гастингса для принятия решения, оставить ли новую перестановку (P2>P1) или же вернуть старую. Делаем несколько таких итераций и сохраняем результат. Много раз повторяем алгоритм и выбираем лучшую перестановку."
   ]
  },
  {
   "cell_type": "code",
   "execution_count": 18,
   "metadata": {},
   "outputs": [],
   "source": [
    "c = Counter()\n",
    "for i in range(len(processed_text) - 1):\n",
    "    c[(processed_text[i], processed_text[i + 1])] += 1\n",
    "for ch_1 in ru_alphabet:\n",
    "    for ch_2 in ru_alphabet:\n",
    "        c[(ch_1, ch_2)] += 1\n",
    "total = len(processed_text) - 1 + len(ru_alphabet) ** 2\n",
    "for k in c.keys():\n",
    "    c[k] /= total\n",
    "T = c\n",
    "\n",
    "\n",
    "def decode_with_permutation(text, p):\n",
    "    return ''.join([p[a] for a in text])\n",
    "\n",
    "\n",
    "def init_permutation(alphabet):\n",
    "    shuffled_alphabet = list(alphabet)\n",
    "    random.shuffle(shuffled_alphabet)\n",
    "    shuffled_alphabet = ''.join(shuffled_alphabet)\n",
    "    key = {k: v for k, v in zip(alphabet, shuffled_alphabet)}\n",
    "    return key\n",
    "\n",
    "\n",
    "def calculate_probability_ratio(T, a, b):\n",
    "    ratio = 1\n",
    "    for i in range(len(a) - 1):\n",
    "        ratio *= T[(a[i], a[i+1])] / T[(b[i], b[i+1])]\n",
    "    return ratio\n",
    "\n",
    "\n",
    "def decode(message, max_iter=2000, max_attempts=10):\n",
    "    best_guess = message\n",
    "    for j in range(max_attempts):\n",
    "        permutation = init_permutation(ru_alphabet)\n",
    "        for i in range(max_iter):\n",
    "            key_1 = random.choice(list(permutation.keys()))\n",
    "            key_2 = random.choice(list(permutation.keys()))\n",
    "            text_1 = decode_with_permutation(message, permutation)\n",
    "            permutation[key_1], permutation[key_2] = permutation[key_2], permutation[key_1]\n",
    "            text_2 = decode_with_permutation(message, permutation)\n",
    "            ratio = calculate_probability_ratio(T, text_2, text_1)\n",
    "            if random.uniform(0, 1) > ratio:\n",
    "                permutation[key_1], permutation[key_2] = permutation[key_2], permutation[key_1]\n",
    "        attempt_result = decode_with_permutation(message, permutation)\n",
    "        if calculate_probability_ratio(T, attempt_result, best_guess) > 1:\n",
    "            best_guess = attempt_result\n",
    "    return best_guess"
   ]
  },
  {
   "cell_type": "code",
   "execution_count": 26,
   "metadata": {},
   "outputs": [
    {
     "name": "stdout",
     "output_type": "stream",
     "text": [
      "мы с отцом занимались опиливанием деревьев которые находились в опасных местах там куда не могла подъехать вышка снажала я просто помогал отцу потом брал на себя всю основную чизижескую работу например в богородицке самое высокое здание пять этафей но иногда приходилось лезть еще выше\n",
      "Accuracy: 0.9859649122807017\n"
     ]
    }
   ],
   "source": [
    "encrypted = encode(ru_message, list_ru_alphabet)\n",
    "decrypted = decode(encrypted)\n",
    "print(decrypted)\n",
    "print(f'Accuracy: {check_accuracy(ru_message, decrypted)}')"
   ]
  },
  {
   "cell_type": "markdown",
   "metadata": {},
   "source": [
    "## 4 task"
   ]
  },
  {
   "cell_type": "markdown",
   "metadata": {},
   "source": [
    "        Расшифруйте сообщение: "
   ]
  },
  {
   "cell_type": "code",
   "execution_count": 33,
   "metadata": {},
   "outputs": [],
   "source": [
    "message = \"←⇠⇒↟↹↷⇊↹↷↟↤↟↨←↹↝⇛⇯↳⇴⇒⇈↝⇊↾↹↟⇒↟↹⇷⇛⇞↨↟↹↝⇛⇯↳⇴⇒⇈↝⇊↾↹↨←⇌⇠↨↹⇙↹⇸↨⇛↙⇛↹⇠⇛⇛↲⇆←↝↟↞↹⇌⇛↨⇛⇯⇊↾↹⇒←↙⇌⇛↹⇷⇯⇛⇞↟↨⇴↨⇈↹⇠⇌⇛⇯←←↹↷⇠←↙⇛↹↷⇊↹↷⇠←↹⇠↤←⇒⇴⇒↟↹⇷⇯⇴↷↟⇒⇈↝⇛↹↟↹⇷⇛⇒⇙⇞↟↨←↹↳⇴⇌⇠↟↳⇴⇒⇈↝⇊↾↹↲⇴⇒⇒↹⇰⇴↹⇷⇛⇠⇒←↤↝←←↹⇞←↨↷←⇯↨⇛←↹⇰⇴↤⇴↝↟←↹⇌⇙⇯⇠⇴↹↘⇛↨↞↹⇌⇛↝←⇞↝⇛↹↞↹↝↟⇞←↙⇛↹↝←↹⇛↲←⇆⇴⇏\"\n",
    "message_ru_transcoder = {k: v for k, v in zip(set(message), ru_alphabet)}\n",
    "message_ru = ''.join([message_ru_transcoder[k] for k in message])"
   ]
  },
  {
   "cell_type": "code",
   "execution_count": 45,
   "metadata": {},
   "outputs": [
    {
     "name": "stdout",
     "output_type": "stream",
     "text": [
      "если ву вимите норкальнуй или почти норкальнуй тедст ы этого сообщения доторуй легдо прочитать сдорее всего ву все смелали правильно и полычите кадсикальнуй балл за послемнее четвертое замание дырса хотя донечно я ничего не обещаж\n"
     ]
    }
   ],
   "source": [
    "decrypted = decode(message_ru)\n",
    "print(decrypted)"
   ]
  },
  {
   "cell_type": "markdown",
   "metadata": {},
   "source": [
    "Зашифрованное сообщение: если вы видите нормальный или почти нормальный текст у этого сообщения который легко прочитать скорее всего вы все сделали правильно и получите максимальный балл за последнее четвертое задание курса хотя конечно я ничего не обещаю"
   ]
  },
  {
   "cell_type": "code",
   "execution_count": 46,
   "metadata": {},
   "outputs": [
    {
     "name": "stdout",
     "output_type": "stream",
     "text": [
      "Accuracy: 0.8913043478260869\n"
     ]
    }
   ],
   "source": [
    "ru_message = \"если вы видите нормальный или почти нормальный текст у этого сообщения который легко прочитать скорее всего вы все сделали правильно и получите максимальный балл за последнее четвертое задание курса хотя конечно я ничего не обещаю\"\n",
    "print(f'Accuracy: {check_accuracy(ru_message, decrypted)}')"
   ]
  }
 ],
 "metadata": {
  "kernelspec": {
   "display_name": "Python 3",
   "language": "python",
   "name": "python3"
  },
  "language_info": {
   "codemirror_mode": {
    "name": "ipython",
    "version": 3
   },
   "file_extension": ".py",
   "mimetype": "text/x-python",
   "name": "python",
   "nbconvert_exporter": "python",
   "pygments_lexer": "ipython3",
   "version": "3.8.8"
  }
 },
 "nbformat": 4,
 "nbformat_minor": 2
}
